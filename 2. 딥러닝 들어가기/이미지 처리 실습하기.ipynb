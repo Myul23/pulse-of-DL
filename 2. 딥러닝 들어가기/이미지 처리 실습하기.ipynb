{
 "metadata": {
  "language_info": {
   "codemirror_mode": {
    "name": "ipython",
    "version": 3
   },
   "file_extension": ".py",
   "mimetype": "text/x-python",
   "name": "python",
   "nbconvert_exporter": "python",
   "pygments_lexer": "ipython3",
   "version": "3.7.9-final"
  },
  "orig_nbformat": 2,
  "kernelspec": {
   "name": "python3",
   "display_name": "Python 3.7.9 64-bit (conda)",
   "metadata": {
    "interpreter": {
     "hash": "97ae724bfa85b9b34df7982b8bb8c7216f435b92902d749e4263f71162bea840"
    }
   }
  }
 },
 "nbformat": 4,
 "nbformat_minor": 2,
 "cells": [
  {
   "source": [
    "## 이미지 처리 실습하기\n",
    "\n",
    "- 예제 넣어봤자 lenna일 것 같아서 돌려보진 않음."
   ],
   "cell_type": "markdown",
   "metadata": {}
  },
  {
   "source": [
    "### Basic image processing"
   ],
   "cell_type": "markdown",
   "metadata": {}
  },
  {
   "cell_type": "code",
   "execution_count": null,
   "metadata": {},
   "outputs": [],
   "source": [
    "import numpy as np\n",
    "import os\n",
    "from scipy.misc import imread, imresize\n",
    "import matplotlib.pyplot as plt\n",
    "%matplotlib inline"
   ]
  },
  {
   "cell_type": "code",
   "execution_count": null,
   "metadata": {},
   "outputs": [],
   "source": [
    "cwd = os.getcwd()\n",
    "print(\"current folderrr is %s\", %cwd)"
   ]
  },
  {
   "source": [
    "#### print function"
   ],
   "cell_type": "markdown",
   "metadata": {}
  },
  {
   "cell_type": "code",
   "execution_count": 1,
   "metadata": {},
   "outputs": [],
   "source": [
    "def print_typeshape(img):\n",
    "    print(\"Type is %s\" % type(img), \"Shape is %s\" % img.shape, sep=\"\\n\")"
   ]
  },
  {
   "cell_type": "code",
   "execution_count": null,
   "metadata": {},
   "outputs": [],
   "source": [
    "# cat = imread(\"cat.jpg\")\n",
    "# pirnt_typeshape(cat)"
   ]
  },
  {
   "cell_type": "code",
   "execution_count": null,
   "metadata": {},
   "outputs": [],
   "source": [
    "plt.figure(figsize=(10, 8))\n",
    "plt.imshow(cat)\n",
    "plt.title(\"Original cat\")\n",
    "plt.draw()"
   ]
  },
  {
   "source": [
    "### Load + Cast to float"
   ],
   "cell_type": "markdown",
   "metadata": {}
  },
  {
   "cell_type": "code",
   "execution_count": null,
   "metadata": {},
   "outputs": [],
   "source": [
    "# cat = imread(\"cat.jpg\").astype(np.float) / 255\n",
    "# 이런 식으로 float으로 가져올 수 있는데, imshow는 타입에 반응해서 float 타입이면, 최소를 0, 최대를 1로 잡아서 그린다고.\n",
    "# pirnt_typeshape(cat)"
   ]
  },
  {
   "source": [
    "### Resize"
   ],
   "cell_type": "markdown",
   "metadata": {}
  },
  {
   "cell_type": "code",
   "execution_count": null,
   "metadata": {},
   "outputs": [],
   "source": [
    "catsmall = imread(cat, [100, 100])\n",
    "print_typeshape(catsmall)\n",
    "\n",
    "plt.figure(1)\n",
    "plt.imshow(catsmall)\n",
    "plt.title(\"Resized image\")\n",
    "plt.draw()"
   ]
  },
  {
   "source": [
    "### grascale"
   ],
   "cell_type": "markdown",
   "metadata": {}
  },
  {
   "cell_type": "code",
   "execution_count": null,
   "metadata": {},
   "outputs": [],
   "source": [
    "def rgb2gray(rgb):\n",
    "    if len(rgb.shape) is 3:\n",
    "        return np.dot(rgb[..., :3], [0.299, 0.587, 0.114])\n",
    "    else:\n",
    "        print(\"Current image if gray!\")\n",
    "        return rgb"
   ]
  },
  {
   "cell_type": "code",
   "execution_count": null,
   "metadata": {},
   "outputs": [],
   "source": [
    "catsmallgray = rgb2gray(catsmall)\n",
    "print(\"size of catsmallgray is %s\" % catsmallgray.shape,\n",
    "      \"\\ntype of catsmallgray is type\", type(catsmallgray))\n",
    "\n",
    "plt.imshow(catsmallgray, cmap=plt.get_cmap(\"gray\"))\n",
    "plt.title(\"[image] gray image\")\n",
    "plt.colorbar()\n",
    "plt.draw()"
   ]
  },
  {
   "source": [
    "### reshape"
   ],
   "cell_type": "markdown",
   "metadata": {}
  },
  {
   "cell_type": "code",
   "execution_count": null,
   "metadata": {},
   "outputs": [],
   "source": []
  }
 ]
}