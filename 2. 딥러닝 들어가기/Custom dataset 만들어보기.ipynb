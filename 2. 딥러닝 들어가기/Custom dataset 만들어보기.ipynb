{
 "metadata": {
  "language_info": {
   "codemirror_mode": {
    "name": "ipython",
    "version": 3
   },
   "file_extension": ".py",
   "mimetype": "text/x-python",
   "name": "python",
   "nbconvert_exporter": "python",
   "pygments_lexer": "ipython3",
   "version": "3.7.7-final"
  },
  "orig_nbformat": 2,
  "kernelspec": {
   "name": "python3",
   "display_name": "Python 3",
   "language": "python"
  }
 },
 "nbformat": 4,
 "nbformat_minor": 2,
 "cells": [
  {
   "source": [
    "## Custom dataset 만들어보기\n",
    "\n",
    "- dataset generation\n",
    "- package 확인 말고는 이미지 데이터 가져와야 함.\n",
    "- 어차피 lenna를 쓸 것 같아서 실행은 시키지 않음.\n",
    "- resize 후 이용하기 편하게 한 곳에 저장시키는 방식을 설명하셨습니다."
   ],
   "cell_type": "markdown",
   "metadata": {}
  },
  {
   "cell_type": "code",
   "execution_count": 1,
   "metadata": {},
   "outputs": [
    {
     "output_type": "stream",
     "name": "stdout",
     "text": [
      "present: c:\\Github Projects\\pulse-of-DL\\2. 딥러닝 들어가기\n"
     ]
    }
   ],
   "source": [
    "import numpy as np\n",
    "import os\n",
    "from scipy.misc import imread, imresize\n",
    "# 1.3 ver부터 imread 및 imresize 함수가 misc에서 사라졌다고 한다. 그래서 1.2.0으로 고정시켰다.\n",
    "import matplotlib.pyplot as plt\n",
    "%matplotlib inline\n",
    "cwd = os.getcwd()\n",
    "print(\"present:\", cwd)"
   ]
  },
  {
   "source": [
    "CUSTOM 영역"
   ],
   "cell_type": "markdown",
   "metadata": {}
  },
  {
   "source": [
    "paths = [\"이미지가 있을 path\", \"이분은 4개를 쓰셨는데\", \"참고로 path이기 때문에\", \"해당 파일 이름까지 쓰지 않음\"]\n",
    "categories = [\"해당\", \"그림의\", \"분류\", \"즉 이름\"]\n",
    "\n",
    "# resize할 이미지의 크기를 의미하구요.\n",
    "imgsize = [64, 64]\n",
    "use_gray = 0\n",
    "data_name = \"custom_data\"\n",
    "\n",
    "# path 보고 불러오는 작업이구요.\n",
    "for i, path in enumerate(paths):\n",
    "    print(\" [%d/%d] %s\" % (i, len(paths), path))\n",
    "# 다 가져왔다고 알리는 거구요.\n",
    "print(\"DATA WILL BE SAVED TO \\n [%s]\" % (cwd + \"/data/\" + data_name + \".npz\"))\n",
    "# .npz(numpy zip)로 묶어버리시네요.\n"
   ],
   "cell_type": "code",
   "metadata": {},
   "execution_count": null,
   "outputs": []
  },
  {
   "cell_type": "code",
   "execution_count": null,
   "metadata": {},
   "outputs": [],
   "source": [
    "def rgb2gray(rgb):\n",
    "    if len(rgb.shape) is 3:\n",
    "        return np.dot(rgb[..., :3], [0.299, 0.587, 0.114])\n",
    "    else:\n",
    "        return rgb"
   ]
  },
  {
   "cell_type": "code",
   "execution_count": null,
   "metadata": {},
   "outputs": [],
   "source": [
    "nclass = len(paths)\n",
    "valid_exts = [\".jpg\", \".gif\", \".png\", \".tga\", \".jpeg\"]\n",
    "\n",
    "imgcnt = 0\n",
    "for i, relpath in zip(range(nclass), paths):\n",
    "    path = cwd + \"/\" + relpath\n",
    "    flist = os.listdir(path)\n",
    "    for f in flist:\n",
    "        # 이미지 파일 가져오는 과정\n",
    "        if os.path.splitext(f)[1].lower() not in valid_exts:\n",
    "            continue\n",
    "        fullpath = os.path.join(path, f)\n",
    "        currimg = imread(fullpath)\n",
    "\n",
    "        # Grayscale로의 변환 과정\n",
    "        if use_gray:\n",
    "            grayimg = rgb2gray(currimg)\n",
    "        else:\n",
    "            grayimg = currimg\n",
    "        \n",
    "        # 줄이고 펼치는 과정\n",
    "        graysmall = imresize(grayimg, [imgsize[0], imgsize[1]]) / 255.\n",
    "        grayvec = np.reshape(graysmall, (1, -1))\n",
    "\n",
    "        # label 데이터와 함께 전체 데이터 만드는(합치는) 과정\n",
    "        # path에 따르면 모두 다른 데이터였으므로 np.eye를 통해 one hot encoding을 한 듯한 효과를 낸다.\n",
    "        curr_label = np.eye(nclass, nclass)[i:i + 1, :]\n",
    "        if imgcnt is 0:\n",
    "            totalimg = grayvec\n",
    "            totallabel = curr_label\n",
    "        else:\n",
    "            totalimg = np.concatenate((totalimg, grayvec), axis=0)\n",
    "            totallabel = np.concatenate((totallabel, curr_label), axis=0)\n",
    "        imgcnt += 1\n",
    "print(\"Total images:\" imgcnt)"
   ]
  },
  {
   "cell_type": "code",
   "execution_count": null,
   "metadata": {},
   "outputs": [],
   "source": [
    "def print_shape(string, x):\n",
    "    print(\"Shape of [%s] is [%s]\" (string, x.shape))"
   ]
  },
  {
   "cell_type": "code",
   "execution_count": null,
   "metadata": {},
   "outputs": [],
   "source": [
    "randidx = np.random.randint(imgcnt, size=imgcnt)\n",
    "trainidx = randidx(0:int(4 * imgcnt / 5))\n",
    "testidx = randidx(int(4 * imgcnt / 5):imgcnt)\n",
    "\n",
    "trainimg = totalimg[trainidx, :]\n",
    "trainlabel = totallabel[trainidx, :]\n",
    "testimg = totalimg[testidx, :]\n",
    "testlabel = totallabel[testidx, :]\n",
    "\n",
    "print_shape(\"trainimg\", trainimg)\n",
    "print_shape(\"trainlabel\", trainlabel)\n",
    "print_shape(\"testimg\", testimg)\n",
    "print_shape(\"testlabel\", testlabel)"
   ]
  },
  {
   "cell_type": "code",
   "execution_count": null,
   "metadata": {},
   "outputs": [],
   "source": [
    "savepath = swd + \"/data/\" + data_name + \".npz\"\n",
    "np.saves(savepath, trainimg=trainimg, trainlabel=trainlabel,\n",
    "         testimg=testimg, testlabel=testlabel,\n",
    "         imgsize=imgsize, use_gray=use_gray, categories=categories)"
   ]
  },
  {
   "cell_type": "code",
   "execution_count": null,
   "metadata": {},
   "outputs": [],
   "source": [
    "cwd = os.getcwd()\n",
    "loadpath = cwd + \"/data/\" + data_name + \".npz\"\n",
    "l = np.load(loadpath)\n",
    "print(l.files)"
   ]
  },
  {
   "cell_type": "code",
   "execution_count": null,
   "metadata": {},
   "outputs": [],
   "source": [
    "trainimg_loaded = l[\"trainimg\"]\n",
    "trainlabel_loaded = l[\"trainlabel\"]\n",
    "testimg_loaded = l[\"testimg\"]\n",
    "testlabel_loaded = l[\"testlabel\"]\n",
    "# print로 shape을 확인하지만, [1, 64 * 64 * 3]일 테지."
   ]
  },
  {
   "cell_type": "code",
   "execution_count": null,
   "metadata": {},
   "outputs": [],
   "source": [
    "ntrain_loaded = trainimg_loaded.shape[0]\n",
    "batch_size = 5\n",
    "randidx = np.random.randint(ntrain_loaded, size=batch_size)\n",
    "\n",
    "for i in randidx:\n",
    "    currimg = np.reshape(trainimg_loaded[i, :], (imgsize[0], -1))\n",
    "    currlabel_onehot = trainlabel_loaded[i, :]\n",
    "    currlabel = np.argmax(currlabel_onehot)\n",
    "    if use_gray:\n",
    "        currimg = np.reshape(trainimg[i, :], (imgsize[0], -1))\n",
    "        plt.matshow(currimg, cmap=plt.get_cmap(\"gray\"))\n",
    "        plt.colorbar()\n",
    "    else:\n",
    "        currimg = np.reshape(trainimg[i, :], (imgsize[0], imgsize[1], 3))\n",
    "        plt.imshow(currimg)\n",
    "    title_string = (\"[%d] CLASS-%d (%s)\"\n",
    "                    % (i, currlabel, categories_loaded[currlabel]))\n",
    "    plt.title(title_string)\n",
    "    plt.show()"
   ]
  }
 ]
}