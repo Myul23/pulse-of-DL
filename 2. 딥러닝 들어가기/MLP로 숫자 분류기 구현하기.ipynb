{
 "metadata": {
  "language_info": {
   "codemirror_mode": {
    "name": "ipython",
    "version": 3
   },
   "file_extension": ".py",
   "mimetype": "text/x-python",
   "name": "python",
   "nbconvert_exporter": "python",
   "pygments_lexer": "ipython3",
   "version": "3.7.7-final"
  },
  "orig_nbformat": 2,
  "kernelspec": {
   "name": "python3",
   "display_name": "Python 3",
   "language": "python"
  }
 },
 "nbformat": 4,
 "nbformat_minor": 2,
 "cells": [
  {
   "source": [
    "## Multi Layer Perceptron\n",
    "\n",
    "- Deep Dense layers\n",
    "- Activation 계층을 추가하므로써 비선형성을 만드는 것.\n",
    "- tensorflow package에 logit(softmax 이전 상태, 출력 계층에 z말고 a)을 이용하는 함수를 이용해보고자 함.\n",
    "- 개념적으로 볼 때 logistic regression(classification이 더 맞는 말)과의 차이는 depth라고 나도 생각됨."
   ],
   "cell_type": "markdown",
   "metadata": {}
  },
  {
   "cell_type": "code",
   "execution_count": 2,
   "metadata": {},
   "outputs": [
    {
     "output_type": "stream",
     "name": "stdout",
     "text": [
      "1.15.0\n"
     ]
    }
   ],
   "source": [
    "import numpy as np\n",
    "import tensorflow as tf\n",
    "from tensorflow.examples.tutorials.mnist import input_data\n",
    "print(tf.__version__)"
   ]
  },
  {
   "cell_type": "code",
   "execution_count": 4,
   "metadata": {},
   "outputs": [
    {
     "output_type": "stream",
     "name": "stdout",
     "text": [
      "WARNING:tensorflow:From <ipython-input-4-96d682f8ab8a>:1: read_data_sets (from tensorflow.contrib.learn.python.learn.datasets.mnist) is deprecated and will be removed in a future version.\n",
      "Instructions for updating:\n",
      "Please use alternatives such as official/mnist/dataset.py from tensorflow/models.\n",
      "WARNING:tensorflow:From C:\\Anaconda3\\envs\\tensorflow\\lib\\site-packages\\tensorflow_core\\contrib\\learn\\python\\learn\\datasets\\mnist.py:260: maybe_download (from tensorflow.contrib.learn.python.learn.datasets.base) is deprecated and will be removed in a future version.\n",
      "Instructions for updating:\n",
      "Please write your own downloading logic.\n",
      "WARNING:tensorflow:From C:\\Anaconda3\\envs\\tensorflow\\lib\\site-packages\\tensorflow_core\\contrib\\learn\\python\\learn\\datasets\\mnist.py:262: extract_images (from tensorflow.contrib.learn.python.learn.datasets.mnist) is deprecated and will be removed in a future version.\n",
      "Instructions for updating:\n",
      "Please use tf.data to implement this functionality.\n",
      "Extracting data/train-images-idx3-ubyte.gz\n",
      "WARNING:tensorflow:From C:\\Anaconda3\\envs\\tensorflow\\lib\\site-packages\\tensorflow_core\\contrib\\learn\\python\\learn\\datasets\\mnist.py:267: extract_labels (from tensorflow.contrib.learn.python.learn.datasets.mnist) is deprecated and will be removed in a future version.\n",
      "Instructions for updating:\n",
      "Please use tf.data to implement this functionality.\n",
      "Extracting data/train-labels-idx1-ubyte.gz\n",
      "WARNING:tensorflow:From C:\\Anaconda3\\envs\\tensorflow\\lib\\site-packages\\tensorflow_core\\contrib\\learn\\python\\learn\\datasets\\mnist.py:110: dense_to_one_hot (from tensorflow.contrib.learn.python.learn.datasets.mnist) is deprecated and will be removed in a future version.\n",
      "Instructions for updating:\n",
      "Please use tf.one_hot on tensors.\n",
      "Extracting data/t10k-images-idx3-ubyte.gz\n",
      "Extracting data/t10k-labels-idx1-ubyte.gz\n",
      "WARNING:tensorflow:From C:\\Anaconda3\\envs\\tensorflow\\lib\\site-packages\\tensorflow_core\\contrib\\learn\\python\\learn\\datasets\\mnist.py:290: DataSet.__init__ (from tensorflow.contrib.learn.python.learn.datasets.mnist) is deprecated and will be removed in a future version.\n",
      "Instructions for updating:\n",
      "Please use alternatives such as official/mnist/dataset.py from tensorflow/models.\n"
     ]
    }
   ],
   "source": [
    "mnist = input_data.read_data_sets(\"data/\", one_hot=True)"
   ]
  },
  {
   "cell_type": "code",
   "execution_count": 14,
   "metadata": {},
   "outputs": [],
   "source": [
    "n_hidden_1 = 256\n",
    "n_hidden_2 = 128\n",
    "n_hidden_3 = 64\n",
    "n_input = 784\n",
    "n_classes = 10\n",
    "stddev = 0.1\n"
   ]
  },
  {
   "cell_type": "code",
   "execution_count": 21,
   "metadata": {},
   "outputs": [],
   "source": [
    "x = tf.placeholder(\"float\", [None, n_input])\n",
    "y = tf.placeholder(\"float\", [None, n_classes])\n",
    "\n",
    "weights = {\n",
    "    \"h1\": tf.Variable(tf.random_normal([n_input, n_hidden_1], stddev=stddev)),\n",
    "    \"h2\": tf.Variable(tf.random_normal([n_hidden_1, n_hidden_2], stddev=stddev)),\n",
    "    \"h3\": tf.Variable(tf.random_normal([n_hidden_2, n_hidden_3], stddev=stddev)),\n",
    "    \"out\": tf.Variable(tf.random_normal([n_hidden_3, n_classes], stddev=stddev))\n",
    "}\n",
    "biases = {\n",
    "    \"b1\": tf.Variable(tf.random_normal([n_hidden_1])),\n",
    "    \"b2\": tf.Variable(tf.random_normal([n_hidden_2])),\n",
    "    \"b3\": tf.Variable(tf.random_normal([n_hidden_3])),\n",
    "    \"out\": tf.Variable(tf.random_normal([n_classes]))\n",
    "}"
   ]
  },
  {
   "cell_type": "code",
   "execution_count": 22,
   "metadata": {},
   "outputs": [],
   "source": [
    "def multilayer_perceptron(_X, _weights, _biases):\n",
    "    layer_1 = tf.nn.sigmoid(tf.add(tf.matmul(_X, _weights[\"h1\"]), _biases[\"b1\"]))\n",
    "    layer_2 = tf.nn.sigmoid(tf.add(tf.matmul(layer_1, _weights[\"h2\"]), _biases[\"b2\"]))\n",
    "    layer_3 = tf.nn.sigmoid(tf.add(tf.matmul(layer_2, _weights[\"h3\"]), _biases[\"b3\"]))\n",
    "    return tf.matmul(layer_3, _weights[\"out\"]) + _biases[\"out\"]"
   ]
  },
  {
   "cell_type": "code",
   "execution_count": 23,
   "metadata": {},
   "outputs": [],
   "source": [
    "pred = multilayer_perceptron(x, weights, biases)\n",
    "\n",
    "cost = tf.reduce_mean(tf.nn.softmax_cross_entropy_with_logits(labels=y, logits=pred))\n",
    "optimizer = tf.train.AdamOptimizer(learning_rate=0.001).minimize(cost)\n",
    "corr = tf.equal(tf.argmax(pred, 1), tf.argmax(y, 1))\n",
    "accuracy = tf.reduce_mean(tf.cast(corr, \"float\"))"
   ]
  },
  {
   "cell_type": "code",
   "execution_count": 24,
   "metadata": {},
   "outputs": [
    {
     "output_type": "stream",
     "name": "stdout",
     "text": [
      "Epoch: 003/020 cost: 0.109280802\n",
      "Train Accuracy: 0.970\n",
      "Test Accuracy: 0.964\n",
      "Epoch: 007/020 cost: 0.040693321\n",
      "Train Accuracy: 0.970\n",
      "Test Accuracy: 0.975\n",
      "Epoch: 011/020 cost: 0.015786796\n",
      "Train Accuracy: 1.000\n",
      "Test Accuracy: 0.976\n",
      "Epoch: 015/020 cost: 0.006636053\n",
      "Train Accuracy: 1.000\n",
      "Test Accuracy: 0.979\n",
      "Epoch: 019/020 cost: 0.003516116\n",
      "Train Accuracy: 1.000\n",
      "Test Accuracy: 0.975\n",
      "Optimization finished !\n"
     ]
    }
   ],
   "source": [
    "max_epochs = 20\n",
    "batch_size = 100\n",
    "display_step = 4\n",
    "\n",
    "with tf.Session() as sess:\n",
    "    sess.run(tf.global_variables_initializer())\n",
    "    for epoch in range(max_epochs):\n",
    "        avg_cost = 0.\n",
    "        total_batch = int(mnist.train.num_examples / batch_size)\n",
    "        batch_xs = []; batch_ys = []; feeds = dict()\n",
    "        for i in range(total_batch):\n",
    "            batch_xs, batch_ys = mnist.train.next_batch(batch_size)\n",
    "            feeds = {x: batch_xs, y: batch_ys}\n",
    "            sess.run(optimizer, feed_dict=feeds)\n",
    "            avg_cost += sess.run(cost, feed_dict=feeds)\n",
    "        avg_cost /= total_batch\n",
    "\n",
    "        if (epoch + 1) % display_step == 0:\n",
    "            print(\"Epoch: %03d/%03d cost: %.9f\" % (epoch, max_epochs, avg_cost))\n",
    "            train_acc = sess.run(accuracy, feed_dict=feeds)\n",
    "            print(\"Train Accuracy: %.3f\" % train_acc)\n",
    "            feeds = {x: mnist.test.images, y: mnist.test.labels}\n",
    "            test_acc = sess.run(accuracy, feed_dict=feeds)\n",
    "            print(\"Test Accuracy: %.3f\" % test_acc)\n",
    "print(\"Optimization finished !\")"
   ]
  },
  {
   "source": [
    "logistic regression에서 test accuracy가 92% 정도였던 걸 생각하면<br />\n",
    "MLP에서 test accuracy가 98%가 되었으니 성능 향상을 보임.\n",
    "\n",
    "현재 모델은 원래 hidden이 2층이었던 것에서 3층으로 바꾼 건데<br />\n",
    "아마 deep이 무조건 모델 성능 향상에 도움을 주는 것은 아니라는 식을 끝내고 싶으셨던 것 같다."
   ],
   "cell_type": "markdown",
   "metadata": {}
  }
 ]
}